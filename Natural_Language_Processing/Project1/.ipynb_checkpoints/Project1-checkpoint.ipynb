{
 "cells": [
  {
   "cell_type": "code",
   "execution_count": null,
   "id": "905539f8-afb8-4581-9d49-af3c172990bf",
   "metadata": {},
   "outputs": [],
   "source": [
    "# Manuel Aragon\n",
    "# CSCE 4290 INTRODUCTION TO NATURAL LANGUAGE PROCESSING\n",
    "# Project 1"
   ]
  },
  {
   "cell_type": "code",
   "execution_count": 67,
   "id": "983a3679-361f-4bc0-b959-db493f207381",
   "metadata": {
    "tags": []
   },
   "outputs": [],
   "source": [
    "import urllib3\n",
    "import nltk\n",
    "\n",
    "# Open corpus file\n",
    "with open(\"corpus.txt\", \"r\") as file:\n",
    "    text = file.read()\n",
    "# Create tokens from words in file\n",
    "tokens = [t for t in text.split()]"
   ]
  },
  {
   "cell_type": "code",
   "execution_count": 68,
   "id": "44d783c3-2d3d-48c3-89d2-169f8d5f7960",
   "metadata": {
    "tags": []
   },
   "outputs": [],
   "source": [
    "# Generate the Unigram Model\n",
    "unigram_freq = nltk.FreqDist(tokens)\n",
    "tl = len(tokens)\n",
    "unigram_probs = {k: v/tl for (k,v) in unigram_freq.items()}\n",
    "\n",
    "from operator import itemgetter\n",
    "unigram_sprobs = dict(sorted(unigram_probs.items(), key=itemgetter(1), reverse=True))\n",
    "unigram_pvals = list(unigram_sprobs.values())\n",
    "unigram_cumprobs = {k: sum(unigram_pvals[0:ix+1]) for ix, (k,v) in enumerate(unigram_sprobs.items())}\n",
    "\n",
    "import random\n",
    "random.seed(42)\n",
    "random.random()\n",
    "\n",
    "unigram_keys = list(unigram_cumprobs.keys())\n",
    "unigram_values = unigram_cumprobs.values()"
   ]
  },
  {
   "cell_type": "code",
   "execution_count": 69,
   "id": "d2214abd-4156-4633-b793-3ae2c7582750",
   "metadata": {
    "tags": []
   },
   "outputs": [
    {
     "name": "stdout",
     "output_type": "stream",
     "text": [
      "Unigram Model:\n",
      "have have have have have have have have have have\n",
      "have have have have have have have have have have\n",
      "have have have have have have have have have have\n",
      "have have have have have have have have have have\n",
      "have have have have have have have have have have\n"
     ]
    }
   ],
   "source": [
    "import random\n",
    "print(\"Unigram Model:\")\n",
    "\n",
    "# Generate 5 sentences\n",
    "for i in range(5):\n",
    "    sentence = []\n",
    "    # Generate 10 words for each sentence\n",
    "    for j in range(10):\n",
    "        random_number = random.random()\n",
    "        # Find the index of the word in the unigram_values list that has a value greater than the random number\n",
    "        ix = [i for (i, v) in enumerate(unigram_values) if v > rn][0]\n",
    "        # Add the corresponding word from the unigram_keys list to the sentence\n",
    "        sentence.append(unigram_keys[ix])\n",
    "        \n",
    "    # Join the words in the sentence with a space, and print the sentence\n",
    "    print(\" \".join(sentence))"
   ]
  },
  {
   "cell_type": "code",
   "execution_count": 70,
   "id": "4a7f16f6-63dd-45c0-9b30-0c33b91dfea9",
   "metadata": {
    "tags": []
   },
   "outputs": [],
   "source": [
    "# Generate the bigram model\n",
    "bigrams = nltk.bigrams(tokens)\n",
    "bigram_freq = nltk.FreqDist(bigrams)\n",
    "bigram_probs = {k: v/tl for (k,v) in bigram_freq.items()}\n",
    "bigram_sprobs = dict(sorted(bigram_probs.items(), key=itemgetter(1), reverse=True))\n",
    "bigram_pvals = list(bigram_sprobs.values())\n",
    "bigram_cumprobs = {k: sum(bigram_pvals[0:ix+1]) for ix, (k,v) in enumerate(bigram_sprobs.items())}\n",
    "\n",
    "\n",
    "import random\n",
    "random.seed(42)\n",
    "random.random()\n",
    "\n",
    "bigram_keys = list(bigram_cumprobs.keys())\n",
    "bigram_values = bigram_cumprobs.values()"
   ]
  },
  {
   "cell_type": "code",
   "execution_count": 71,
   "id": "7493a8e4-7fa1-4008-9699-2070d0eb4a40",
   "metadata": {
    "tags": []
   },
   "outputs": [
    {
     "name": "stdout",
     "output_type": "stream",
     "text": [
      "Bigram Model:\n",
      "of blockchain protocols. Some of custodying the fourth industrial changes.\n",
      "of each blockchain digital assets of achieving close-to-real data, unable\n",
      "of other stakeholders and biasing them as network regardless of\n",
      "of node that each category is even illegal in recent\n",
      "of Solidity language. The system by looking at least to\n"
     ]
    }
   ],
   "source": [
    "import random\n",
    "print(\"Bigram Model:\")\n",
    "\n",
    "num_sentences = 5\n",
    "num_words = 10\n",
    "\n",
    "# Loop over the range of number of sentences\n",
    "for i in range(num_sentences):\n",
    "    # Set the current word to the first bigram key\n",
    "    current_word = bigram_keys[0][0]\n",
    "    sentence = [current_word]\n",
    "\n",
    "    # Loop over the range of number of words in each sentence\n",
    "    for j in range(num_words-1):\n",
    "        next_word = None\n",
    "        random_number = random.random()\n",
    "        threshold = 0.1\n",
    "\n",
    "        while next_word is None:\n",
    "\n",
    "            # Loop over the bigram keys and values\n",
    "            for k, (bigram, prob) in enumerate(zip(bigram_keys, bigram_values)):\n",
    "                # If the current word matches the first word in the bigram and the random value is less than or equal to the probability\n",
    "                if current_word == bigram[0] and random_number <= prob:\n",
    "                    # Set the next word as the second word in the bigram\n",
    "                    next_word = bigram[1]\n",
    "                    break\n",
    "\n",
    "            random_number = random.random()\n",
    "            # Increase the threshold by 1.5\n",
    "            threshold *= 1.5\n",
    "            if threshold > 1:\n",
    "                break\n",
    "        if next_word is None:\n",
    "            break\n",
    "\n",
    "        # Add the next word to the sentence\n",
    "        sentence.append(next_word)\n",
    "        # Set the current word to the next word\n",
    "        current_word = next_word\n",
    "\n",
    "    # Print the sentence joined with spaces\n",
    "    print(\" \".join(sentence))\n"
   ]
  },
  {
   "cell_type": "code",
   "execution_count": 72,
   "id": "502e4827-e450-44b5-9098-6a3f217d45a2",
   "metadata": {
    "tags": []
   },
   "outputs": [],
   "source": [
    "import nltk\n",
    "from operator import itemgetter\n",
    "\n",
    "# Generate the trigram model\n",
    "trigrams = nltk.trigrams(tokens)\n",
    "trigram_freq = nltk.FreqDist(trigrams)\n",
    "trigram_probs = {k: v/tl for (k,v) in trigram_freq.items()}\n",
    "trigram_sprobs = dict(sorted(trigram_probs.items(), key=itemgetter(1), reverse=True))\n",
    "trigram_pvals = list(trigram_sprobs.values())\n",
    "trigram_cumprobs = {k: sum(trigram_pvals[0:ix+1]) for ix, (k,v) in enumerate(trigram_sprobs.items())}\n",
    "\n",
    "import random\n",
    "random.seed(42)\n",
    "random.random()\n",
    "\n",
    "trigram_keys = list(trigram_cumprobs.keys())\n",
    "trigram_values = trigram_cumprobs.values()"
   ]
  },
  {
   "cell_type": "code",
   "execution_count": 73,
   "id": "5907da21-95d5-4be2-9bcc-351086381899",
   "metadata": {},
   "outputs": [
    {
     "name": "stdout",
     "output_type": "stream",
     "text": [
      "Trigram Model:\n",
      "of the blockchain is now rapidly extending its application to\n",
      "of the blockchain perform equivalent calculations and store equivalent data.\n",
      "of the blockchain such as roulettes, card games, etc., but\n",
      "of the blockchain has complete database information, all information is\n",
      "of the blockchain will continue to improve the privacy security\n"
     ]
    }
   ],
   "source": [
    "import random\n",
    "\n",
    "print(\"Trigram Model:\")\n",
    "\n",
    "num_sentences = 5\n",
    "num_words = 10\n",
    "\n",
    "# Loop over the number of sentences to generate\n",
    "for i in range(num_sentences):\n",
    "    current_trigram = trigram_keys[0]\n",
    "    # Create a list for the sentence and add the first three words from the current trigram\n",
    "    sentence = list(current_trigram[:3])\n",
    "    \n",
    "    # Loop over the number of words in each sentence\n",
    "    for j in range(num_words-3):\n",
    "        next_trigram = None\n",
    "        random_number = random.random()\n",
    "        threshold = 0.1\n",
    "        \n",
    "        # Keep looping until a next trigram is found\n",
    "        while next_trigram is None:\n",
    "            # Loop over the trigram keys and values\n",
    "            for k, (trigram, prob) in enumerate(zip(trigram_keys, trigram_values)):\n",
    "                # If the current trigram's last two words match the next trigram's first two words\n",
    "                # and the random value is less than or equal to the probability, set the next trigram\n",
    "                if current_trigram[1:] == trigram[:-1] and random_number <= prob:\n",
    "                    next_trigram = trigram\n",
    "                    break\n",
    "            random_number = random.random()\n",
    "            # Double the threshold value\n",
    "            threshold *= 2\n",
    "            if threshold > 1:\n",
    "                continue\n",
    "        # Add the last word of the next trigram to the sentence\n",
    "        sentence.append(next_trigram[-1])\n",
    "        # Set the current trigram to the next trigram\n",
    "        current_trigram = next_trigram\n",
    "    if len(sentence) < num_words:\n",
    "        continue\n",
    "    print(\" \".join(sentence))\n"
   ]
  },
  {
   "cell_type": "code",
   "execution_count": 74,
   "id": "87898b60-c6bd-48ee-bfa8-c975d7f5e92a",
   "metadata": {},
   "outputs": [],
   "source": [
    "import nltk\n",
    "from operator import itemgetter\n",
    "\n",
    "# Generate the 4-gram model\n",
    "fourgrams = nltk.ngrams(tokens, 4)\n",
    "fourgram_freq = nltk.FreqDist(fourgrams)\n",
    "fourgram_probs = {k: v/tl for (k,v) in fourgram_freq.items()}\n",
    "fourgram_sprobs = dict(sorted(fourgram_probs.items(), key=itemgetter(1), reverse=True))\n",
    "fourgram_pvals = list(fourgram_sprobs.values())\n",
    "fourgram_cumprobs = {k: sum(fourgram_pvals[0:ix+1]) for ix, (k,v) in enumerate(fourgram_sprobs.items())}\n",
    "\n",
    "import random\n",
    "random.seed(42)\n",
    "random.random()\n",
    "\n",
    "\n",
    "fourgram_keys = list(fourgram_cumprobs.keys())\n",
    "fourgram_values = fourgram_cumprobs.values()"
   ]
  },
  {
   "cell_type": "code",
   "execution_count": 75,
   "id": "50e7f532-22c8-4312-a165-fa62e6cc36d6",
   "metadata": {},
   "outputs": [
    {
     "name": "stdout",
     "output_type": "stream",
     "text": [
      "4-gram Model:\n",
      "At the same and count the average time to execute\n",
      "At the same because the potential of blockchain applications is\n",
      "At the same because the potential of blockchain applications is\n",
      "At the same because the potential of blockchain applications is\n",
      "At the same we can learn from international methods, such\n"
     ]
    }
   ],
   "source": [
    "import random\n",
    "\n",
    "print(\"4-gram Model:\")\n",
    "\n",
    "num_sentences = 5\n",
    "num_words = 10\n",
    "\n",
    "# Loop through the number of sentences to generate\n",
    "for i in range(num_sentences):\n",
    "    # Get the first fourgram to start the sentence\n",
    "    current_fourgram = fourgram_keys[0]\n",
    "    # Start the sentence with the first three words of the fourgram\n",
    "    sentence = list(current_fourgram[:3])\n",
    "    \n",
    "    # Loop through to generate the remaining words in the sentence\n",
    "    for j in range(num_words-3):\n",
    "        next_fourgram = None\n",
    "        random_number = random.random()\n",
    "        threshold = 0.1\n",
    "        \n",
    "        # Loop until a next fourgram is found\n",
    "        while next_fourgram is None:\n",
    "            # Loop through the fourgram keys and values\n",
    "            for k, (fourgram, prob) in enumerate(zip(fourgram_keys, fourgram_values)):\n",
    "                # If the current fourgram's last three words match the next fourgram's first three words and the random value is less than or equal to the probability\n",
    "                if current_fourgram[1:] == fourgram[:-1] and random_number <= prob:\n",
    "                    next_fourgram = fourgram\n",
    "                    break\n",
    "            # Get a new random value\n",
    "            random_number = random.random()\n",
    "            # Double the threshold\n",
    "            threshold *= 2\n",
    "            # If the threshold is greater than 1, continue to the next iteration of the loop\n",
    "            if threshold > 1:\n",
    "                continue\n",
    "        # Add the last word of the next fourgram to the sentence\n",
    "        sentence.append(next_fourgram[-1])\n",
    "        # Set the current fourgram as the next fourgram\n",
    "        current_fourgram = next_fourgram\n",
    "        \n",
    "    if len(sentence) < num_words:\n",
    "        continue\n",
    "    print(\" \".join(sentence))\n"
   ]
  }
 ],
 "metadata": {
  "kernelspec": {
   "display_name": "Python 3 (ipykernel)",
   "language": "python",
   "name": "python3"
  },
  "language_info": {
   "codemirror_mode": {
    "name": "ipython",
    "version": 3
   },
   "file_extension": ".py",
   "mimetype": "text/x-python",
   "name": "python",
   "nbconvert_exporter": "python",
   "pygments_lexer": "ipython3",
   "version": "3.10.6"
  }
 },
 "nbformat": 4,
 "nbformat_minor": 5
}
